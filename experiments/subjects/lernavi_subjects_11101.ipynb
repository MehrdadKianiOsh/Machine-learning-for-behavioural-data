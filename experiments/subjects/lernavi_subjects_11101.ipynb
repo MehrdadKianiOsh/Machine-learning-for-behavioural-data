{
 "cells": [
  {
   "cell_type": "markdown",
   "id": "8af48ca1-b6d1-4092-b7b5-037d3c2d7aef",
   "metadata": {
    "id": "8af48ca1-b6d1-4092-b7b5-037d3c2d7aef"
   },
   "source": [
    "# M4 | Research Investigation Notebook\n",
    "\n",
    "In this notebook, you will do a research investigation of your chosen dataset in teams. You will begin by formally selecting your research question (task 0), then processing your data (task 1), creating a predictive model (task 2), and evaluating your model's results (task 3).\n",
    "\n",
    "Please upload your solved notebook to Moodle (under [Milestone 4 Submission](https://moodle.epfl.ch/mod/assign/view.php?id=1199557)) adding your team name in title, example: `m4-lernnavi-teamname.ipynb`. Please run all cells before submission so we can grade effectively.\n",
    "\n",
    "\n",
    "\n",
    "## Brief overview of Lernnavi\n",
    "[Lernnavi](https://www.lernnavi.ch) is an instrument for promoting part of the basic technical study skills in German and mathematics.\n",
    "\n",
    "Lernnavi's dataset is formatted in three main tables:\n",
    "* *users*: demographic information of users.\n",
    "* *events*: events done by the users in the platform.\n",
    "* *transactions*: question and answer solved by user.\n",
    "\n",
    "You should provide arguments and justifications for all of your design decisions throughout this investigation. You can use your M3 responses as the basis for this discussion."
   ]
  },
  {
   "cell_type": "code",
   "execution_count": 1,
   "id": "82ea2d32-f0a9-4dc9-bb60-be43399f5b89",
   "metadata": {
    "id": "82ea2d32-f0a9-4dc9-bb60-be43399f5b89"
   },
   "outputs": [],
   "source": [
    "# Import the tables of the data set as dataframes.\n",
    "import matplotlib.pyplot as plt\n",
    "import seaborn as sns\n",
    "import pandas as pd\n",
    "import numpy as np\n",
    "import scipy as sc\n",
    "\n",
    "# Scikit-learn package imports\n",
    "from sklearn import feature_extraction, model_selection, metrics\n",
    "\n",
    "# PyBKT package imports\n",
    "from pyBKT.models import Model\n",
    "\n",
    "# PyAFM package imports\n",
    "from pyafm.custom_logistic import CustomLogistic\n",
    "\n",
    "DATA_DIR = 'data' # You many change the directory\n",
    "\n",
    "users = pd.read_csv('{}/users.csv.gz'.format(DATA_DIR))\n",
    "events = pd.read_csv('{}/events.csv.gz'.format(DATA_DIR))\n",
    "transactions = pd.read_csv('{}/transactions.csv.gz'.format(DATA_DIR))"
   ]
  },
  {
   "cell_type": "code",
   "execution_count": 2,
   "id": "9dc709ef-79e4-4d9b-bc95-fd404f30fd3d",
   "metadata": {},
   "outputs": [],
   "source": [
    "topics=pd.read_csv('{}/topics_translated.csv.gz'.format(DATA_DIR))\n",
    "topics_trees=pd.read_csv('{}/topic_trees.csv.gz'.format(DATA_DIR))\n",
    "documents=pd.read_csv('{}/documents.csv.gz'.format(DATA_DIR))\n",
    "learn_sessions=pd.read_csv('{}/learn_sessions_transactions.csv.gz'.format(DATA_DIR))"
   ]
  },
  {
   "cell_type": "code",
   "execution_count": 3,
   "id": "43b14d38-4ba9-4d3c-ac5c-687f9a00f209",
   "metadata": {},
   "outputs": [],
   "source": [
    "transactions['user_id']=transactions['user_id'].astype(int)"
   ]
  },
  {
   "cell_type": "markdown",
   "id": "89137355",
   "metadata": {},
   "source": [
    "## Task 0: Research Question"
   ]
  },
  {
   "cell_type": "markdown",
   "id": "31dafc5b",
   "metadata": {},
   "source": [
    "**Research question:**\n",
    "*Your chosen research question goes here*"
   ]
  },
  {
   "cell_type": "markdown",
   "id": "a77f62b0-1945-48f1-8f22-5f6ebda1db8e",
   "metadata": {
    "id": "a77f62b0-1945-48f1-8f22-5f6ebda1db8e"
   },
   "source": [
    "## Task 1: Data Preprocessing\n",
    "\n",
    "In this section, you are asked to preprocess your data in a way that is relevant for the model. Please include 1-2 visualizations of features / data explorations that are related to your downstream prediction task."
   ]
  },
  {
   "cell_type": "markdown",
   "id": "e3ec2dd5-0410-4f54-b3af-9a8750508e59",
   "metadata": {},
   "source": [
    "Different approaches we have to try:\n",
    "\n",
    "1. Ways of considering partial answers:\n",
    "    - as 0 (incorrect)\n",
    "    - as 1 (correct)\n",
    "    - as -1 (not answered)-the least logical\n",
    "    - as 1 if answered >50% correct,0 otherwise\n",
    "    \n",
    "2. Answers:\n",
    "    - can be given only on tasks of type 'level check'\n",
    "    - can be given on all types of tasks\n",
    "\n",
    "3. Acceptance of session:\n",
    "    - consider only accepted sessions\n",
    "    - consider any\n",
    "    \n",
    "4. Closeness of session:\n",
    "    - any\n",
    "    - closed\n",
    "\n",
    "5. Filter users:\n",
    "    - allow any number of sessions\n",
    "    - only users with many sessions"
   ]
  },
  {
   "cell_type": "code",
   "execution_count": 4,
   "id": "26eb514c-7584-4860-adcd-817185114da1",
   "metadata": {},
   "outputs": [],
   "source": [
    "learn_transaction=pd.merge(learn_sessions,transactions[['transaction_id','user_id','evaluation']],on='transaction_id').copy()"
   ]
  },
  {
   "cell_type": "code",
   "execution_count": 5,
   "id": "3c0e9cf6-98a2-430a-900d-c721af0c1eae",
   "metadata": {},
   "outputs": [
    {
     "data": {
      "text/plain": [
       "(497263, 9)"
      ]
     },
     "execution_count": 5,
     "metadata": {},
     "output_type": "execute_result"
    }
   ],
   "source": [
    "learn_transaction.shape"
   ]
  },
  {
   "cell_type": "code",
   "execution_count": 6,
   "id": "ec8e5566-d876-4d50-9aa1-e5cad58058e7",
   "metadata": {},
   "outputs": [],
   "source": [
    "#We assume that answers can be given only on tasks of type check and no answers on tasks of type learn\n",
    "#learn_transaction=learn_transaction[((learn_transaction['type_id']==2)  & (learn_transaction['evaluation'].notna())) | ((learn_transaction['type_id']==1)  & (learn_transaction['evaluation'].isna()))].copy()"
   ]
  },
  {
   "cell_type": "code",
   "execution_count": 7,
   "id": "412e34e4-ae87-465a-a328-6bff7c4aa506",
   "metadata": {},
   "outputs": [
    {
     "data": {
      "text/plain": [
       "(497263, 9)"
      ]
     },
     "execution_count": 7,
     "metadata": {},
     "output_type": "execute_result"
    }
   ],
   "source": [
    "learn_transaction.shape"
   ]
  },
  {
   "cell_type": "code",
   "execution_count": 8,
   "id": "5c310b1c-995e-4217-8a50-0fc21ae614a9",
   "metadata": {},
   "outputs": [],
   "source": [
    "learn_transaction['correct']=learn_transaction['evaluation'].fillna(-1) #not given\n",
    "#learn_transaction['correct']=np.where((learn_transaction['correct']=='CORRECT') ,1,np.where(learn_transaction['correct']==-1,-1,0)) #PARTIAL as incorrect\n",
    "learn_transaction['correct']=np.where((learn_transaction['correct']=='CORRECT') | (learn_transaction['correct']=='PARTIAL'),1,np.where(learn_transaction['correct']==-1,-1,0)) #PARTIAL as correct"
   ]
  },
  {
   "cell_type": "code",
   "execution_count": 9,
   "id": "7ed93e45-8f72-4a9c-967a-86eb9ce7df22",
   "metadata": {},
   "outputs": [],
   "source": [
    "learn_transaction=pd.merge(learn_transaction,topics,left_on='topic_id',right_on='id').copy()"
   ]
  },
  {
   "cell_type": "code",
   "execution_count": 10,
   "id": "328b5cbd-5e46-4084-82b2-fed334ba5024",
   "metadata": {},
   "outputs": [],
   "source": [
    "#acceptance\n",
    "#learn_transaction=learn_transaction[learn_transaction['is_accepted']==1].reset_index().copy()"
   ]
  },
  {
   "cell_type": "code",
   "execution_count": 11,
   "id": "7034271f-5082-4380-88cb-3bd46dc2f418",
   "metadata": {},
   "outputs": [
    {
     "data": {
      "text/plain": [
       "(497263, 16)"
      ]
     },
     "execution_count": 11,
     "metadata": {},
     "output_type": "execute_result"
    }
   ],
   "source": [
    "learn_transaction.shape"
   ]
  },
  {
   "cell_type": "code",
   "execution_count": 12,
   "id": "6fa0a20f-8551-4fc0-952b-ba4838d9b9b6",
   "metadata": {},
   "outputs": [],
   "source": [
    "#closeness of sessions\n",
    "#learn_transaction=learn_transaction[learn_transaction['is_closed']==1].reset_index().copy()"
   ]
  },
  {
   "cell_type": "code",
   "execution_count": 13,
   "id": "d0bd9789-a001-4ea0-a570-46d5734c03d2",
   "metadata": {},
   "outputs": [
    {
     "data": {
      "text/plain": [
       "(497263, 16)"
      ]
     },
     "execution_count": 13,
     "metadata": {},
     "output_type": "execute_result"
    }
   ],
   "source": [
    "learn_transaction.shape"
   ]
  },
  {
   "cell_type": "code",
   "execution_count": 14,
   "id": "78fe8af5-ee53-4b93-9b0d-f4e03a4b5d15",
   "metadata": {},
   "outputs": [],
   "source": [
    "learn_transaction['subject']=np.where(learn_transaction['math']==1,'Math','German')"
   ]
  },
  {
   "cell_type": "code",
   "execution_count": 15,
   "id": "c4a78e2a-2f7a-4a0d-859b-967ea62e042c",
   "metadata": {},
   "outputs": [],
   "source": [
    "df_subject=learn_transaction[['user_id','learn_session_id','transaction_id','subject','correct']].sort_values(by=['learn_session_id','transaction_id'],ascending=True)\n",
    "df_subject=df_subject.rename(columns={\"subject\": \"skill_name\"}).copy()"
   ]
  },
  {
   "cell_type": "code",
   "execution_count": 16,
   "id": "20e41bc8-e746-4934-85b9-9ab18eac0a61",
   "metadata": {},
   "outputs": [],
   "source": [
    "df_subject['prior_success']=np.where(df_subject.correct==1,1,0)\n",
    "df_subject['prior_failure']=np.where(df_subject.correct==0,1,0)\n",
    "df_subject['prior_success']=df_subject.groupby(['user_id','skill_name']).prior_success.cumsum()-1\n",
    "df_subject['prior_success']=df_subject['prior_success'].apply(lambda x: 0 if x<0 else x)\n",
    "df_subject['prior_failure']=df_subject.groupby(['user_id','skill_name']).prior_failure.cumsum()-1\n",
    "df_subject['prior_failure']=df_subject['prior_failure'].apply(lambda x: 0 if x<0 else x)"
   ]
  },
  {
   "cell_type": "code",
   "execution_count": 17,
   "id": "1c508948-9e4f-4c36-a338-b62fe28f911a",
   "metadata": {},
   "outputs": [
    {
     "data": {
      "text/html": [
       "<div>\n",
       "<style scoped>\n",
       "    .dataframe tbody tr th:only-of-type {\n",
       "        vertical-align: middle;\n",
       "    }\n",
       "\n",
       "    .dataframe tbody tr th {\n",
       "        vertical-align: top;\n",
       "    }\n",
       "\n",
       "    .dataframe thead th {\n",
       "        text-align: right;\n",
       "    }\n",
       "</style>\n",
       "<table border=\"1\" class=\"dataframe\">\n",
       "  <thead>\n",
       "    <tr style=\"text-align: right;\">\n",
       "      <th></th>\n",
       "      <th>user_id</th>\n",
       "      <th>learn_session_id</th>\n",
       "      <th>transaction_id</th>\n",
       "      <th>skill_name</th>\n",
       "      <th>correct</th>\n",
       "      <th>prior_success</th>\n",
       "      <th>prior_failure</th>\n",
       "    </tr>\n",
       "  </thead>\n",
       "  <tbody>\n",
       "    <tr>\n",
       "      <th>0</th>\n",
       "      <td>387605</td>\n",
       "      <td>5297</td>\n",
       "      <td>385883</td>\n",
       "      <td>Math</td>\n",
       "      <td>1</td>\n",
       "      <td>0</td>\n",
       "      <td>0</td>\n",
       "    </tr>\n",
       "    <tr>\n",
       "      <th>1</th>\n",
       "      <td>387605</td>\n",
       "      <td>5297</td>\n",
       "      <td>385884</td>\n",
       "      <td>Math</td>\n",
       "      <td>1</td>\n",
       "      <td>1</td>\n",
       "      <td>0</td>\n",
       "    </tr>\n",
       "    <tr>\n",
       "      <th>2</th>\n",
       "      <td>387605</td>\n",
       "      <td>5297</td>\n",
       "      <td>385885</td>\n",
       "      <td>Math</td>\n",
       "      <td>-1</td>\n",
       "      <td>1</td>\n",
       "      <td>0</td>\n",
       "    </tr>\n",
       "    <tr>\n",
       "      <th>3</th>\n",
       "      <td>387605</td>\n",
       "      <td>5297</td>\n",
       "      <td>385886</td>\n",
       "      <td>Math</td>\n",
       "      <td>1</td>\n",
       "      <td>2</td>\n",
       "      <td>0</td>\n",
       "    </tr>\n",
       "    <tr>\n",
       "      <th>4</th>\n",
       "      <td>387605</td>\n",
       "      <td>5297</td>\n",
       "      <td>385887</td>\n",
       "      <td>Math</td>\n",
       "      <td>1</td>\n",
       "      <td>3</td>\n",
       "      <td>0</td>\n",
       "    </tr>\n",
       "    <tr>\n",
       "      <th>5</th>\n",
       "      <td>387605</td>\n",
       "      <td>5299</td>\n",
       "      <td>385888</td>\n",
       "      <td>Math</td>\n",
       "      <td>0</td>\n",
       "      <td>3</td>\n",
       "      <td>0</td>\n",
       "    </tr>\n",
       "    <tr>\n",
       "      <th>6</th>\n",
       "      <td>387605</td>\n",
       "      <td>5299</td>\n",
       "      <td>385889</td>\n",
       "      <td>Math</td>\n",
       "      <td>1</td>\n",
       "      <td>4</td>\n",
       "      <td>0</td>\n",
       "    </tr>\n",
       "    <tr>\n",
       "      <th>7</th>\n",
       "      <td>387605</td>\n",
       "      <td>5299</td>\n",
       "      <td>385890</td>\n",
       "      <td>Math</td>\n",
       "      <td>1</td>\n",
       "      <td>5</td>\n",
       "      <td>0</td>\n",
       "    </tr>\n",
       "    <tr>\n",
       "      <th>8</th>\n",
       "      <td>387605</td>\n",
       "      <td>5299</td>\n",
       "      <td>385891</td>\n",
       "      <td>Math</td>\n",
       "      <td>0</td>\n",
       "      <td>5</td>\n",
       "      <td>1</td>\n",
       "    </tr>\n",
       "    <tr>\n",
       "      <th>9</th>\n",
       "      <td>387605</td>\n",
       "      <td>5299</td>\n",
       "      <td>385892</td>\n",
       "      <td>Math</td>\n",
       "      <td>1</td>\n",
       "      <td>6</td>\n",
       "      <td>1</td>\n",
       "    </tr>\n",
       "    <tr>\n",
       "      <th>10</th>\n",
       "      <td>387605</td>\n",
       "      <td>5300</td>\n",
       "      <td>385893</td>\n",
       "      <td>Math</td>\n",
       "      <td>1</td>\n",
       "      <td>7</td>\n",
       "      <td>1</td>\n",
       "    </tr>\n",
       "    <tr>\n",
       "      <th>11</th>\n",
       "      <td>387605</td>\n",
       "      <td>5300</td>\n",
       "      <td>385894</td>\n",
       "      <td>Math</td>\n",
       "      <td>1</td>\n",
       "      <td>8</td>\n",
       "      <td>1</td>\n",
       "    </tr>\n",
       "    <tr>\n",
       "      <th>12</th>\n",
       "      <td>387605</td>\n",
       "      <td>5300</td>\n",
       "      <td>385895</td>\n",
       "      <td>Math</td>\n",
       "      <td>1</td>\n",
       "      <td>9</td>\n",
       "      <td>1</td>\n",
       "    </tr>\n",
       "    <tr>\n",
       "      <th>13</th>\n",
       "      <td>387605</td>\n",
       "      <td>5300</td>\n",
       "      <td>385896</td>\n",
       "      <td>Math</td>\n",
       "      <td>1</td>\n",
       "      <td>10</td>\n",
       "      <td>1</td>\n",
       "    </tr>\n",
       "    <tr>\n",
       "      <th>14</th>\n",
       "      <td>387605</td>\n",
       "      <td>5300</td>\n",
       "      <td>385897</td>\n",
       "      <td>Math</td>\n",
       "      <td>1</td>\n",
       "      <td>11</td>\n",
       "      <td>1</td>\n",
       "    </tr>\n",
       "    <tr>\n",
       "      <th>15</th>\n",
       "      <td>387605</td>\n",
       "      <td>5301</td>\n",
       "      <td>385898</td>\n",
       "      <td>Math</td>\n",
       "      <td>1</td>\n",
       "      <td>12</td>\n",
       "      <td>1</td>\n",
       "    </tr>\n",
       "    <tr>\n",
       "      <th>16</th>\n",
       "      <td>387605</td>\n",
       "      <td>5301</td>\n",
       "      <td>385899</td>\n",
       "      <td>Math</td>\n",
       "      <td>-1</td>\n",
       "      <td>12</td>\n",
       "      <td>1</td>\n",
       "    </tr>\n",
       "    <tr>\n",
       "      <th>17</th>\n",
       "      <td>387605</td>\n",
       "      <td>5307</td>\n",
       "      <td>385900</td>\n",
       "      <td>German</td>\n",
       "      <td>1</td>\n",
       "      <td>0</td>\n",
       "      <td>0</td>\n",
       "    </tr>\n",
       "    <tr>\n",
       "      <th>18</th>\n",
       "      <td>387605</td>\n",
       "      <td>5307</td>\n",
       "      <td>385901</td>\n",
       "      <td>German</td>\n",
       "      <td>1</td>\n",
       "      <td>1</td>\n",
       "      <td>0</td>\n",
       "    </tr>\n",
       "    <tr>\n",
       "      <th>19</th>\n",
       "      <td>387605</td>\n",
       "      <td>5307</td>\n",
       "      <td>385902</td>\n",
       "      <td>German</td>\n",
       "      <td>1</td>\n",
       "      <td>2</td>\n",
       "      <td>0</td>\n",
       "    </tr>\n",
       "  </tbody>\n",
       "</table>\n",
       "</div>"
      ],
      "text/plain": [
       "    user_id  learn_session_id  transaction_id skill_name  correct  \\\n",
       "0    387605              5297          385883       Math        1   \n",
       "1    387605              5297          385884       Math        1   \n",
       "2    387605              5297          385885       Math       -1   \n",
       "3    387605              5297          385886       Math        1   \n",
       "4    387605              5297          385887       Math        1   \n",
       "5    387605              5299          385888       Math        0   \n",
       "6    387605              5299          385889       Math        1   \n",
       "7    387605              5299          385890       Math        1   \n",
       "8    387605              5299          385891       Math        0   \n",
       "9    387605              5299          385892       Math        1   \n",
       "10   387605              5300          385893       Math        1   \n",
       "11   387605              5300          385894       Math        1   \n",
       "12   387605              5300          385895       Math        1   \n",
       "13   387605              5300          385896       Math        1   \n",
       "14   387605              5300          385897       Math        1   \n",
       "15   387605              5301          385898       Math        1   \n",
       "16   387605              5301          385899       Math       -1   \n",
       "17   387605              5307          385900     German        1   \n",
       "18   387605              5307          385901     German        1   \n",
       "19   387605              5307          385902     German        1   \n",
       "\n",
       "    prior_success  prior_failure  \n",
       "0               0              0  \n",
       "1               1              0  \n",
       "2               1              0  \n",
       "3               2              0  \n",
       "4               3              0  \n",
       "5               3              0  \n",
       "6               4              0  \n",
       "7               5              0  \n",
       "8               5              1  \n",
       "9               6              1  \n",
       "10              7              1  \n",
       "11              8              1  \n",
       "12              9              1  \n",
       "13             10              1  \n",
       "14             11              1  \n",
       "15             12              1  \n",
       "16             12              1  \n",
       "17              0              0  \n",
       "18              1              0  \n",
       "19              2              0  "
      ]
     },
     "execution_count": 17,
     "metadata": {},
     "output_type": "execute_result"
    }
   ],
   "source": [
    "df_subject.reset_index(inplace=True,drop=True)\n",
    "df_subject.head(20)"
   ]
  },
  {
   "cell_type": "markdown",
   "id": "af065be8-92f7-4014-8424-bb3b44a73c73",
   "metadata": {},
   "source": [
    "Exclude users that were not very active to reduce a little bit dataset (because it is too big to apply these models)"
   ]
  },
  {
   "cell_type": "code",
   "execution_count": 18,
   "id": "98f01b31-88b9-4373-88be-8ca6b727afd2",
   "metadata": {},
   "outputs": [
    {
     "data": {
      "text/plain": [
       "(497263, 7)"
      ]
     },
     "execution_count": 18,
     "metadata": {},
     "output_type": "execute_result"
    }
   ],
   "source": [
    "df_subject.shape"
   ]
  },
  {
   "cell_type": "code",
   "execution_count": 19,
   "id": "030f7882-663a-4a29-aa93-685fa32e8906",
   "metadata": {},
   "outputs": [],
   "source": [
    "user_activity=df_subject.groupby('user_id').count().sort_values(by='correct').copy()\n",
    "include_users=user_activity[['learn_session_id']].sort_values(by='learn_session_id',ascending=False).iloc[:1300,:].index\n",
    "\n",
    "#include_users=user_activity.index.to_frame().sample(2500).index #random 2500 of users\n",
    "df_subject=df_subject[df_subject['user_id'].isin(include_users)].copy()"
   ]
  },
  {
   "cell_type": "code",
   "execution_count": 20,
   "id": "71cd259a-56e7-4349-9047-86360adec545",
   "metadata": {},
   "outputs": [
    {
     "data": {
      "text/plain": [
       "(274201, 7)"
      ]
     },
     "execution_count": 20,
     "metadata": {},
     "output_type": "execute_result"
    }
   ],
   "source": [
    "df_subject.shape"
   ]
  },
  {
   "cell_type": "markdown",
   "id": "85633adb-d317-4ee3-bf06-e9f82f589c41",
   "metadata": {
    "id": "85633adb-d317-4ee3-bf06-e9f82f589c41"
   },
   "source": [
    "## Task 2: Model Building\n",
    "----\n",
    "In this section, we will perform: \n",
    "\n",
    "(i) a Bayesian Knowledge Tracing (BKT) model, \n",
    "\n",
    "(ii) an Additive Factor Model (AFM),\n",
    "\n",
    "(iii) a Performance Factor Analysis (PFA) model and\n",
    "\n",
    "(iv) a Deep learning knowledge tracing (DKT) model<br>\n",
    "on the skills 'Math', and 'German'\n",
    "\n",
    "We will complete this section through five main tasks:\n",
    "\n",
    "Task 2.1: Group k-fold initialization.\n",
    "\n",
    "Task 2.2: BKT evaluation.\n",
    "\n",
    "Task 2.3: AFM evaluation.\n",
    "\n",
    "Task 2.4: PFA evaluation.\n",
    "\n",
    "Task 2.5: DKT evaluation."
   ]
  },
  {
   "cell_type": "markdown",
   "id": "f3527db6-4517-4efa-9bda-d4f749fa4e65",
   "metadata": {},
   "source": [
    "We take a look at the skills included in the data set:"
   ]
  },
  {
   "cell_type": "code",
   "execution_count": 21,
   "id": "357942a5-53f3-4351-9a24-69e75385e583",
   "metadata": {},
   "outputs": [
    {
     "data": {
      "text/plain": [
       "array(['Math', 'German'], dtype=object)"
      ]
     },
     "execution_count": 21,
     "metadata": {},
     "output_type": "execute_result"
    }
   ],
   "source": [
    "df_subject['skill_name'].unique()"
   ]
  },
  {
   "cell_type": "markdown",
   "id": "45686cfa-7498-4ce1-a537-675421c1a762",
   "metadata": {},
   "source": [
    "### Task 2.1"
   ]
  },
  {
   "cell_type": "code",
   "execution_count": 22,
   "id": "90b65ebd-c148-4ae8-833e-018411eeda86",
   "metadata": {
    "id": "90b65ebd-c148-4ae8-833e-018411eeda86"
   },
   "outputs": [],
   "source": [
    "def create_iterator(data):\n",
    "    '''\n",
    "    Create an iterator to split interactions in data in 2 folds, with the same student not appearing in two diverse folds.\n",
    "    :param data:        Dataframe with student's interactions.\n",
    "    :return:            An iterator.\n",
    "    '''\n",
    "    # Both passing a matrix with the raw data or just an array of indexes works\n",
    "    X = np.arange(len(data.index)) \n",
    "    # Groups of interactions are identified by the user id (we do not want the same user appearing in two folds)\n",
    "    groups = data['user_id'].values \n",
    "    return model_selection.GroupKFold(n_splits=2).split(X, groups=groups)"
   ]
  },
  {
   "cell_type": "markdown",
   "id": "2e24c8c0-754c-41da-a0fb-a6f4ed5e5e37",
   "metadata": {},
   "source": [
    "Let's check the output of this function and a few properties of the iterator."
   ]
  },
  {
   "cell_type": "code",
   "execution_count": 23,
   "id": "cc9cb0ea-905d-4181-8940-5efad6c0a7c8",
   "metadata": {},
   "outputs": [
    {
     "name": "stdout",
     "output_type": "stream",
     "text": [
      "Iteration: 0\n",
      "Intersection between train and test user ids: set()\n",
      "All user ids in train and test user union: True\n",
      "User ids tested more than once: set()\n",
      "Iteration: 1\n",
      "Intersection between train and test user ids: set()\n",
      "All user ids in train and test user union: True\n",
      "User ids tested more than once: set()\n"
     ]
    }
   ],
   "source": [
    "tested_user_ids = set()\n",
    "for iteration, (train_index, test_index) in enumerate(create_iterator(df_subject)):\n",
    "    user_ids = df_subject['user_id'].unique()\n",
    "    train_user_ids = df_subject.iloc[train_index]['user_id'].unique()\n",
    "    test_user_ids = df_subject.iloc[test_index]['user_id'].unique()\n",
    "    print('Iteration:', iteration)\n",
    "    print('Intersection between train and test user ids:', set(train_user_ids) & set(test_user_ids))\n",
    "    print('All user ids in train and test user union:', len(set(train_user_ids).union(set(test_user_ids))) == len(user_ids))\n",
    "    print('User ids tested more than once:', set(tested_user_ids) & set(test_user_ids))\n",
    "    tested_user_ids = tested_user_ids.union(set(test_user_ids))"
   ]
  },
  {
   "cell_type": "markdown",
   "id": "d331928f-664a-4c69-9f55-9efd86a0682f",
   "metadata": {},
   "source": [
    "On a given iteration, no user appears in both training and test sets. The union of the users in both training and test sets given us the full set of user ids in the dataset. Each user appears in the test set exactly once."
   ]
  },
  {
   "cell_type": "markdown",
   "id": "540b14cc-e175-4241-8c08-0b754c1f8b10",
   "metadata": {},
   "source": [
    "### Task 2.2\n",
    "\n",
    "In this task we evaluate a `BKT model` with all default parameters in pyBKT, through a `10-fold user-stratified cross-validation`, computing the following performance metrics: `RMSE` and `AUC`."
   ]
  },
  {
   "cell_type": "code",
   "execution_count": 24,
   "id": "02ac472e-166f-40dc-9ddc-ab6b3ef470f2",
   "metadata": {},
   "outputs": [
    {
     "name": "stdout",
     "output_type": "stream",
     "text": [
      "CPU times: user 18.2 s, sys: 0 ns, total: 18.2 s\n",
      "Wall time: 18.3 s\n",
      "Iteration: 0 RMSE (0.291287717993634, 0.2850302713918146) AUC (0.7137567495384433, 0.7159399623066384)\n",
      "CPU times: user 25.5 s, sys: 0 ns, total: 25.5 s\n",
      "Wall time: 25.7 s\n",
      "Iteration: 1 RMSE (0.285015049942083, 0.29130654046397414) AUC (0.7170520358226634, 0.715037516166072)\n"
     ]
    }
   ],
   "source": [
    "rmse_bkt, auc_bkt = [], []\n",
    "for iteration, (train_index, test_index) in enumerate(create_iterator(df_subject)):\n",
    "    \n",
    "    # Split data in training and test sets\n",
    "    X_train, X_test = df_subject.iloc[train_index], df_subject.iloc[test_index]\n",
    "    \n",
    "    # Initialize and fit the model\n",
    "    model = Model(seed=0)\n",
    "    %time model.fit(data=X_train) \n",
    "    \n",
    "    # Compute RMSE\n",
    "    train_rmse = model.evaluate(data=X_train, metric='rmse')\n",
    "    test_rmse = model.evaluate(data=X_test, metric='rmse')\n",
    "    rmse_bkt.append(test_rmse)\n",
    "    \n",
    "    # Compute AUC\n",
    "    train_auc = model.evaluate(data=X_train, metric='auc')\n",
    "    test_auc = model.evaluate(data=X_test, metric='auc')\n",
    "    auc_bkt.append(test_auc)\n",
    "    \n",
    "    # Print progress\n",
    "    print('Iteration:', iteration, 'RMSE', (train_rmse, test_rmse), 'AUC', (train_auc, test_auc))"
   ]
  },
  {
   "cell_type": "markdown",
   "id": "387be70c-07dc-4731-ba8a-3b87830a9820",
   "metadata": {},
   "source": [
    "Finally, we show the mean and the standard deviation of the RMSE and AUC across folds."
   ]
  },
  {
   "cell_type": "code",
   "execution_count": 25,
   "id": "46b398e0-54f7-49d7-8af6-50adfa843d7a",
   "metadata": {},
   "outputs": [
    {
     "name": "stdout",
     "output_type": "stream",
     "text": [
      "For BKT model mean RMSE=0.28817 and standard deviation of RMSE is 0.00314\n",
      "For BKT model mean AUC=0.71549 and standard deviation of AUC is 0.00045\n"
     ]
    }
   ],
   "source": [
    "print('For BKT model mean RMSE={0} and standard deviation of RMSE is {1}'.format(round(np.mean(rmse_bkt),5), round(np.std(rmse_bkt),5)))\n",
    "print('For BKT model mean AUC={0} and standard deviation of AUC is {1}'.format(round(np.mean(auc_bkt),5), round(np.std(auc_bkt),5)))"
   ]
  },
  {
   "cell_type": "code",
   "execution_count": 26,
   "id": "2e511cc0-0a74-4524-b361-a7cde5f46e42",
   "metadata": {},
   "outputs": [
    {
     "data": {
      "text/plain": [
       "(229832, 7)"
      ]
     },
     "execution_count": 26,
     "metadata": {},
     "output_type": "execute_result"
    }
   ],
   "source": [
    "df_subject = df_subject[df_subject['correct'] != -1].copy()\n",
    "df_subject.shape"
   ]
  },
  {
   "cell_type": "markdown",
   "id": "cf1f7375",
   "metadata": {},
   "source": [
    "### Task 2.3\n",
    "\n",
    "In this task we evaluate an `AFM model` with all default parameters through a `10-fold user-stratified cross-validation`, computing the following performance metrics: `RMSE` and `AUC`."
   ]
  },
  {
   "cell_type": "code",
   "execution_count": 27,
   "id": "6e66999b-9678-4ae3-b8b4-f7ad7e69178a",
   "metadata": {},
   "outputs": [],
   "source": [
    "def read_as_student_step(data):    \n",
    "    skills, opportunities, corrects, user_ids = [], [], [], []\n",
    "    \n",
    "    for row_id, (_, row) in enumerate(data.iterrows()):\n",
    "        \n",
    "        # Get attributes for the current interaction \n",
    "        user_id = row['user_id']\n",
    "        skill_name = row['skill_name']\n",
    "        correct = row['correct']\n",
    "        prior_success = row['prior_success']\n",
    "        prior_failure = row['prior_failure']\n",
    "        \n",
    "        # Update the number of opportunities this student had with this skill\n",
    "        opportunities.append({skill_name: prior_success + prior_failure})\n",
    "        \n",
    "        # Update information in the current \n",
    "        skills.append({skill_name: 1})\n",
    "\n",
    "        # Answer info\n",
    "        corrects.append(correct)\n",
    "        \n",
    "        # Student info\n",
    "        user_ids.append({user_id: 1})\n",
    "        \n",
    "    return (skills, opportunities, corrects, user_ids)"
   ]
  },
  {
   "cell_type": "code",
   "execution_count": 28,
   "id": "0ec4670e-c23f-41a3-a327-87ea97334a8f",
   "metadata": {},
   "outputs": [],
   "source": [
    "def prepare_data_afm(skills, opportunities, corrects, user_ids):\n",
    "\n",
    "    sv = feature_extraction.DictVectorizer()\n",
    "    qv = feature_extraction.DictVectorizer()\n",
    "    ov = feature_extraction.DictVectorizer()\n",
    "    S = sv.fit_transform(user_ids)\n",
    "    Q = qv.fit_transform(skills)\n",
    "    O = ov.fit_transform(opportunities)\n",
    "    X = sc.sparse.hstack((S, Q, O))\n",
    "    y = np.array(corrects)\n",
    "\n",
    "    return (X.toarray(), y)"
   ]
  },
  {
   "cell_type": "markdown",
   "id": "e00d3c91-53fb-4c7a-b066-9981d5acea89",
   "metadata": {},
   "source": [
    "Prepare the X and y arrays to be used to evaluate the AFM model. "
   ]
  },
  {
   "cell_type": "code",
   "execution_count": 29,
   "id": "d7b3e39d-c4f7-4982-a04b-053aefa6bfba",
   "metadata": {},
   "outputs": [
    {
     "name": "stdout",
     "output_type": "stream",
     "text": [
      "CPU times: user 11 s, sys: 960 ms, total: 12 s\n",
      "Wall time: 12.1 s\n",
      "CPU times: user 2.08 s, sys: 9.49 s, total: 11.6 s\n",
      "Wall time: 13.6 s\n"
     ]
    }
   ],
   "source": [
    "%time skills, opportunities, corrects, user_ids = read_as_student_step(df_subject)\n",
    "%time X, y = prepare_data_afm(skills, opportunities, corrects, user_ids)"
   ]
  },
  {
   "cell_type": "code",
   "execution_count": 30,
   "id": "e1c3b01f-8993-4874-8627-28ec88e09466",
   "metadata": {},
   "outputs": [
    {
     "data": {
      "text/plain": [
       "(229832, 1304)"
      ]
     },
     "execution_count": 30,
     "metadata": {},
     "output_type": "execute_result"
    }
   ],
   "source": [
    "X.shape"
   ]
  },
  {
   "cell_type": "code",
   "execution_count": 31,
   "id": "e8c01da1-3301-48f2-824b-75b306fc7c4e",
   "metadata": {},
   "outputs": [
    {
     "name": "stdout",
     "output_type": "stream",
     "text": [
      "(114915, 1304) (114917, 1304)\n",
      "CPU times: user 7min 56s, sys: 2min 56s, total: 10min 53s\n",
      "Wall time: 23min 39s\n",
      "Iteration: 0 RMSE (0.2814098937621229, 0.2972405710710949) AUC (0.7404463405129332, 0.6724736655263454)\n",
      "(114917, 1304) (114915, 1304)\n",
      "CPU times: user 5min 10s, sys: 2min 23s, total: 7min 33s\n",
      "Wall time: 27min 6s\n",
      "Iteration: 1 RMSE (0.28935831679433793, 0.2864687675792347) AUC (0.7432962022897197, 0.6758111386968214)\n"
     ]
    }
   ],
   "source": [
    "rmse_afm, auc_afm = [], []\n",
    "for iteration, (train_index, test_index) in enumerate(create_iterator(df_subject)):\n",
    "    \n",
    "    # Split data in training and test sets\n",
    "    X_train, X_test = X[train_index], X[test_index]\n",
    "    y_train, y_test = y[train_index], y[test_index]\n",
    "    \n",
    "    print(X_train.shape,X_test.shape)\n",
    "    \n",
    "    # Initialize and fit the model\n",
    "    afm = CustomLogistic()\n",
    "    %time afm.fit(X_train, y_train)\n",
    "    \n",
    "    # Make predictions \n",
    "    y_train_pred = afm.predict_proba(X_train)\n",
    "    y_test_pred = afm.predict_proba(X_test)\n",
    "    \n",
    "    # Compute RMSE\n",
    "    train_rmse = metrics.mean_squared_error(y_train, y_train_pred, squared=False)\n",
    "    test_rmse = metrics.mean_squared_error(y_test, y_test_pred, squared=False)\n",
    "    rmse_afm.append(test_rmse)\n",
    "    \n",
    "    # Compute AUC\n",
    "    train_auc = metrics.roc_auc_score(y_train, y_train_pred)\n",
    "    test_auc = metrics.roc_auc_score(y_test, y_test_pred)\n",
    "    auc_afm.append(test_auc)\n",
    "    \n",
    "    # Print progress\n",
    "    print('Iteration:', iteration, 'RMSE', (train_rmse, test_rmse), 'AUC', (train_auc, test_auc))"
   ]
  },
  {
   "cell_type": "code",
   "execution_count": 32,
   "id": "e0d39740-d83e-43af-8ed8-95f84749c418",
   "metadata": {},
   "outputs": [],
   "source": [
    "a=[]\n",
    "for i in afm.predict_proba(X_train):\n",
    "    if i not in a:\n",
    "        a.append(i)"
   ]
  },
  {
   "cell_type": "markdown",
   "id": "83eca350-d38f-4480-b397-a68f44dc3627",
   "metadata": {},
   "source": [
    "Finally, we show the mean and the standard deviation of the RMSE and AUC across folds."
   ]
  },
  {
   "cell_type": "code",
   "execution_count": 33,
   "id": "66eb8464-0a91-475a-8a8c-e15912f7883a",
   "metadata": {},
   "outputs": [
    {
     "name": "stdout",
     "output_type": "stream",
     "text": [
      "For AFM model mean RMSE=0.29185 and standard deviation of RMSE is 0.00539\n",
      "For AFM model mean AUC=0.67414 and standard deviation of AUC is 0.00167\n"
     ]
    }
   ],
   "source": [
    "print('For AFM model mean RMSE={0} and standard deviation of RMSE is {1}'.format(round(np.mean(rmse_afm),5), round(np.std(rmse_afm),5)))\n",
    "print('For AFM model mean AUC={0} and standard deviation of AUC is {1}'.format(round(np.mean(auc_afm),5), round(np.std(auc_afm),5)))"
   ]
  },
  {
   "cell_type": "markdown",
   "id": "52b77926-1ef8-46a9-b117-3c167a244d9d",
   "metadata": {},
   "source": [
    "### Task 2.4\n",
    "\n",
    "In this task we evaluate a `PFA model` with all default parameters through a `10-fold user-stratified cross-validation`, computing the following performance metrics: `RMSE` and `AUC`."
   ]
  },
  {
   "cell_type": "code",
   "execution_count": 34,
   "id": "565d8bbc-ac77-4486-a31f-21d95f8e5c27",
   "metadata": {},
   "outputs": [],
   "source": [
    "def read_as_success_failure(data):\n",
    "    n_succ, n_fail = [], []\n",
    "\n",
    "    # Create the n_succ and n_fail variables required by pyAFM\n",
    "    for i, row in data.iterrows():\n",
    "        n_succ.append({row['skill_name']: int(row['prior_success'])})\n",
    "        n_fail.append({row['skill_name']: int(row['prior_failure'])})\n",
    "        \n",
    "    return n_succ, n_fail"
   ]
  },
  {
   "cell_type": "code",
   "execution_count": 35,
   "id": "71836b05-e1ba-4e9e-9619-ef3476e98f2a",
   "metadata": {},
   "outputs": [],
   "source": [
    "def prepare_data_pfa(skills, corrects, user_ids, n_succ, n_fail):\n",
    "    \n",
    "    s = feature_extraction.DictVectorizer()\n",
    "    q = feature_extraction.DictVectorizer()\n",
    "    succ = feature_extraction.DictVectorizer()\n",
    "    fail = feature_extraction.DictVectorizer()\n",
    "    S = s.fit_transform(user_ids)\n",
    "    Q = q.fit_transform(skills)\n",
    "    succ = succ.fit_transform(n_succ)\n",
    "    fail = fail.fit_transform(n_fail)\n",
    "    X = sc.sparse.hstack((S, Q, succ, fail))\n",
    "    y = np.array(corrects)\n",
    "\n",
    "    return (X.toarray(), y)"
   ]
  },
  {
   "cell_type": "markdown",
   "id": "d6fba56b-97f4-4240-9cbb-dbdc3ffca364",
   "metadata": {},
   "source": [
    "Prepare the X and y arrays to be used to evaluate the PFA model. "
   ]
  },
  {
   "cell_type": "code",
   "execution_count": 36,
   "id": "a57044ac-615a-4e5e-9053-219b81c8a2ba",
   "metadata": {},
   "outputs": [
    {
     "name": "stdout",
     "output_type": "stream",
     "text": [
      "CPU times: user 11.8 s, sys: 1.22 s, total: 13 s\n",
      "Wall time: 41.8 s\n",
      "CPU times: user 4.18 s, sys: 8.71 s, total: 12.9 s\n",
      "Wall time: 1min 7s\n"
     ]
    }
   ],
   "source": [
    "%time n_succ, n_fail = read_as_success_failure(df_subject)\n",
    "%time X, y = prepare_data_pfa(skills, corrects, user_ids, n_succ, n_fail)"
   ]
  },
  {
   "cell_type": "code",
   "execution_count": 37,
   "id": "563d746b-e516-44b7-8e94-47900ebe6458",
   "metadata": {},
   "outputs": [
    {
     "data": {
      "text/plain": [
       "(229832, 1306)"
      ]
     },
     "execution_count": 37,
     "metadata": {},
     "output_type": "execute_result"
    }
   ],
   "source": [
    "X.shape"
   ]
  },
  {
   "cell_type": "code",
   "execution_count": 38,
   "id": "0aa7ebac-851d-49e0-a61c-bdb64e91a288",
   "metadata": {},
   "outputs": [
    {
     "name": "stdout",
     "output_type": "stream",
     "text": [
      "CPU times: user 7min 54s, sys: 2min 42s, total: 10min 37s\n",
      "Wall time: 23min 23s\n",
      "Iteration: 0 RMSE (0.28098744253799585, 0.2922476304774659) AUC (0.7447687905845508, 0.7381012103766174)\n",
      "CPU times: user 6min 4s, sys: 2min 45s, total: 8min 49s\n",
      "Wall time: 25min 13s\n",
      "Iteration: 1 RMSE (0.2889919306734877, 0.2845871209322254) AUC (0.7479374806257999, 0.7337628618427731)\n"
     ]
    }
   ],
   "source": [
    "rmse_pfa, auc_pfa = [], []\n",
    "for iteration, (train_index, test_index) in enumerate(create_iterator(df_subject)):\n",
    "    # Split data in training and test sets\n",
    "    X_train, X_test = X[train_index], X[test_index]\n",
    "    y_train, y_test = y[train_index], y[test_index]\n",
    "    # Initialize and fit the model\n",
    "    pfa = CustomLogistic()\n",
    "    %time pfa.fit(X_train, y_train)\n",
    "    # Make predictions \n",
    "    y_train_pred = pfa.predict_proba(X_train)\n",
    "    y_test_pred = pfa.predict_proba(X_test)\n",
    "    # Compute RMSE\n",
    "    train_rmse = metrics.mean_squared_error(y_train, y_train_pred, squared=False)\n",
    "    test_rmse = metrics.mean_squared_error(y_test, y_test_pred, squared=False)\n",
    "    rmse_pfa.append(test_rmse)\n",
    "    # Compute AUC\n",
    "    train_auc = metrics.roc_auc_score(y_train, y_train_pred)\n",
    "    test_auc = metrics.roc_auc_score(y_test, y_test_pred)\n",
    "    auc_pfa.append(test_auc)\n",
    "    # Print progress\n",
    "    print('Iteration:', iteration, 'RMSE', (train_rmse, test_rmse), 'AUC', (train_auc, test_auc))"
   ]
  },
  {
   "cell_type": "markdown",
   "id": "64f562d4-4247-4fdd-82af-1cbd644ee2fb",
   "metadata": {},
   "source": [
    "Finally, we show the mean and the standard deviation of the RMSE and AUC across folds. "
   ]
  },
  {
   "cell_type": "code",
   "execution_count": 39,
   "id": "e4017382-60ff-41ab-aa02-c6b72bd56a81",
   "metadata": {},
   "outputs": [
    {
     "name": "stdout",
     "output_type": "stream",
     "text": [
      "For PFA model mean RMSE=0.28842 and standard deviation of RMSE is 0.00383\n",
      "For PFA model mean AUC=0.73593 and standard deviation of AUC is 0.00217\n"
     ]
    }
   ],
   "source": [
    "print('For PFA model mean RMSE={0} and standard deviation of RMSE is {1}'.format(round(np.mean(rmse_pfa),5), round(np.std(rmse_pfa),5)))\n",
    "print('For PFA model mean AUC={0} and standard deviation of AUC is {1}'.format(round(np.mean(auc_pfa),5), round(np.std(auc_pfa),5)))"
   ]
  },
  {
   "cell_type": "markdown",
   "id": "353edb48-96ff-40cc-be75-c03f3b7a2bd6",
   "metadata": {},
   "source": [
    "### Task 2.5\n",
    "\n",
    "In this task we evaluate a `DKT model` with 10 epochs, computing the following performance metrics: `RMSE` and `AUC`."
   ]
  },
  {
   "cell_type": "code",
   "execution_count": 40,
   "id": "90a4d3f8-f205-4759-bf0a-799051cb7c18",
   "metadata": {},
   "outputs": [
    {
     "name": "stderr",
     "output_type": "stream",
     "text": [
      "2022-05-23 05:43:24.669004: W tensorflow/stream_executor/platform/default/dso_loader.cc:64] Could not load dynamic library 'libcudart.so.11.0'; dlerror: libcudart.so.11.0: cannot open shared object file: No such file or directory\n",
      "2022-05-23 05:43:24.691083: I tensorflow/stream_executor/cuda/cudart_stub.cc:29] Ignore above cudart dlerror if you do not have a GPU set up on your machine.\n"
     ]
    }
   ],
   "source": [
    "# Tensorflow\n",
    "import tensorflow as tf"
   ]
  },
  {
   "cell_type": "code",
   "execution_count": 41,
   "id": "314a6c31-0101-448c-9671-61b67cd94f3f",
   "metadata": {},
   "outputs": [],
   "source": [
    "def prepare_seq(df):\n",
    "    # Step 1 - Enumerate skill id\n",
    "    df['skill'], skill_codes = pd.factorize(df['skill_name'], sort=True)\n",
    "\n",
    "    # Step 2 - Cross skill id with answer to form a synthetic feature\n",
    "    df['skill_with_answer'] = df['skill'] * 2 + df['correct']\n",
    "\n",
    "    # Step 3 - Convert to a sequence per user id and shift features 1 timestep\n",
    "    seq = df.groupby('user_id').apply(lambda r: (r['skill_with_answer'].values[:-1], r['skill'].values[1:], r['correct'].values[1:],))\n",
    "    \n",
    "    # Step 4- Get max skill depth and max feature depth\n",
    "    skill_depth = df['skill'].max() \n",
    "    features_depth = df['skill_with_answer'].max() + 1\n",
    "\n",
    "    return seq, features_depth, skill_depth"
   ]
  },
  {
   "cell_type": "code",
   "execution_count": 42,
   "id": "b1344139-4938-4845-9257-6455a76d1e3e",
   "metadata": {},
   "outputs": [],
   "source": [
    "def prepare_data(seq, params, features_depth, skill_depth):\n",
    "    \n",
    "    # Step 1 - Get Tensorflow Dataset\n",
    "    dataset = tf.data.Dataset.from_generator(generator=lambda: seq, output_types=(tf.int32, tf.int32, tf.float32))\n",
    "\n",
    "    # Step 2 - Encode categorical features and merge skills with labels to compute target loss.\n",
    "    dataset = dataset.map(\n",
    "        lambda feat, skill, label: (\n",
    "            tf.one_hot(feat, depth=features_depth),\n",
    "            tf.concat(values=[tf.one_hot(skill, depth=skill_depth), tf.expand_dims(label, -1)], axis=-1)\n",
    "        )\n",
    "    )\n",
    "\n",
    "    # Step 3 - Pad sequences per batch\n",
    "    dataset = dataset.padded_batch(\n",
    "        batch_size=params['batch_size'],\n",
    "        padding_values=(params['mask_value'], params['mask_value']),\n",
    "        padded_shapes=([None, None], [None, None]),\n",
    "        drop_remainder=True\n",
    "    )\n",
    "\n",
    "    return dataset.repeat(), len(seq)"
   ]
  },
  {
   "cell_type": "code",
   "execution_count": 43,
   "id": "58cce1cc-6666-4d8c-a42f-0f13d3d8fa50",
   "metadata": {},
   "outputs": [],
   "source": [
    "params = {}\n",
    "params['batch_size'] = 32\n",
    "params['mask_value'] = -1.0"
   ]
  },
  {
   "cell_type": "code",
   "execution_count": 44,
   "id": "832ae719-2d11-4610-9856-997deafd7fdc",
   "metadata": {},
   "outputs": [],
   "source": [
    "# Obtain indexes\n",
    "train_index, test_index = next(create_iterator(df_subject))\n",
    "# Split the data\n",
    "X_train, X_test = df_subject.iloc[train_index], df_subject.iloc[test_index]"
   ]
  },
  {
   "cell_type": "code",
   "execution_count": 45,
   "id": "7f12db14-4c1d-40c2-a94b-4a45950e270f",
   "metadata": {},
   "outputs": [
    {
     "name": "stderr",
     "output_type": "stream",
     "text": [
      "2022-05-23 05:51:36.888779: W tensorflow/stream_executor/platform/default/dso_loader.cc:64] Could not load dynamic library 'libcuda.so.1'; dlerror: libcuda.so.1: cannot open shared object file: No such file or directory\n",
      "2022-05-23 05:51:36.888968: W tensorflow/stream_executor/cuda/cuda_driver.cc:269] failed call to cuInit: UNKNOWN ERROR (303)\n",
      "2022-05-23 05:51:36.889167: I tensorflow/stream_executor/cuda/cuda_diagnostics.cc:156] kernel driver does not appear to be running on this host (noto.epfl.ch): /proc/driver/nvidia/version does not exist\n",
      "2022-05-23 05:51:36.923906: I tensorflow/core/platform/cpu_feature_guard.cc:151] This TensorFlow binary is optimized with oneAPI Deep Neural Network Library (oneDNN) to use the following CPU instructions in performance-critical operations:  AVX2 AVX512F FMA\n",
      "To enable them in other operations, rebuild TensorFlow with the appropriate compiler flags.\n"
     ]
    }
   ],
   "source": [
    "# Obtain indexes for necessary validation set\n",
    "train_val_index, val_index = next(create_iterator(X_train))\n",
    "# Split the training data into training and validation\n",
    "X_train_val, X_val = X_train.iloc[train_val_index], X_train.iloc[val_index]\n",
    "\n",
    "seq, features_depth, skill_depth = prepare_seq(df_subject)\n",
    "seq_train = seq[X_train.user_id.unique()]\n",
    "seq_val = seq[X_train_val.user_id.unique()]\n",
    "seq_test = seq[X_test.user_id.unique()]\n",
    "\n",
    "tf_train, length = prepare_data(seq_train, params, features_depth, skill_depth)\n",
    "tf_val, val_length  = prepare_data(seq_val, params, features_depth, skill_depth)\n",
    "tf_test, test_length = prepare_data(seq_test, params, features_depth, skill_depth)\n",
    "\n",
    "params['train_size'] = int(length // params['batch_size'])\n",
    "params['val_size'] = int(val_length // params['batch_size'])\n",
    "params['test_size'] = int(test_length // params['batch_size'])"
   ]
  },
  {
   "cell_type": "code",
   "execution_count": 46,
   "id": "8643acb4-42b5-4b27-850e-085cf8951775",
   "metadata": {},
   "outputs": [],
   "source": [
    "params['verbose'] = 1 # Verbose = {0,1,2}\n",
    "params['best_model_weights'] = 'weights/bestmodel' # File to save the model\n",
    "params['optimizer'] = 'adam' # Optimizer to use\n",
    "params['backbone_nn'] = tf.keras.layers.RNN # Backbone neural network\n",
    "params['recurrent_units'] = 16 # Number of RNN units\n",
    "params['epochs'] = 10  # Number of epochs to train\n",
    "params['dropout_rate'] = 0.3 # Dropout rate"
   ]
  },
  {
   "cell_type": "code",
   "execution_count": 47,
   "id": "5912456c-8685-4fe0-8737-a2595dac48c9",
   "metadata": {},
   "outputs": [],
   "source": [
    "def get_target(y_true, y_pred, mask_value=params['mask_value']):\n",
    "    \n",
    "    # Get skills and labels from y_true\n",
    "    mask = 1. - tf.cast(tf.equal(y_true, mask_value), y_true.dtype)\n",
    "    y_true = y_true * mask\n",
    "\n",
    "    skills, y_true = tf.split(y_true, num_or_size_splits=[-1, 1], axis=-1)\n",
    "\n",
    "    # Get predictions for each skill\n",
    "    y_pred = tf.reduce_sum(y_pred * skills, axis=-1, keepdims=True)\n",
    "\n",
    "    return y_true, y_pred"
   ]
  },
  {
   "cell_type": "code",
   "execution_count": 48,
   "id": "682581ff-ea75-4929-9076-6864e8f32446",
   "metadata": {},
   "outputs": [],
   "source": [
    "class AUC(tf.keras.metrics.AUC):\n",
    "    def update_state(self, y_true, y_pred, sample_weight=None):\n",
    "        true, pred = get_target(y_true, y_pred)\n",
    "        super(AUC, self).update_state(y_true=true, y_pred=pred, sample_weight=sample_weight)\n",
    "\n",
    "class RMSE(tf.keras.metrics.RootMeanSquaredError):\n",
    "    def update_state(self, y_true, y_pred, sample_weight=None):\n",
    "        true, pred = get_target(y_true, y_pred)\n",
    "        super(RMSE, self).update_state(y_true=true, y_pred=pred, sample_weight=sample_weight)\n",
    "        \n",
    "def CustomBinaryCrossEntropy(y_true, y_pred):    \n",
    "    y_true, y_pred = get_target(y_true, y_pred)\n",
    "    return tf.keras.losses.binary_crossentropy(y_true, y_pred)   "
   ]
  },
  {
   "cell_type": "code",
   "execution_count": 49,
   "id": "bc7d3095-640d-4817-887d-41e0ab134ae6",
   "metadata": {},
   "outputs": [],
   "source": [
    "def create_model(nb_features, nb_skills, params):\n",
    "    \n",
    "    # Create the model architecture\n",
    "    inputs = tf.keras.Input(shape=(None, nb_features), name='inputs')\n",
    "    x = tf.keras.layers.Masking(mask_value=params['mask_value'])(inputs)\n",
    "    x = tf.keras.layers.SimpleRNN(params['recurrent_units'], return_sequences=True, dropout=params['dropout_rate'])(x)\n",
    "    dense = tf.keras.layers.Dense(nb_skills, activation='sigmoid')\n",
    "    outputs = tf.keras.layers.TimeDistributed(dense, name='outputs')(x)\n",
    "    model = tf.keras.models.Model(inputs=inputs, outputs=outputs, name='DKT')\n",
    "\n",
    "    # Compile the model\n",
    "    model.compile(loss=CustomBinaryCrossEntropy, \n",
    "                  optimizer=params['optimizer'], \n",
    "                  metrics=[AUC(), RMSE()])\n",
    "    \n",
    "    return model\n",
    "\n",
    "model = create_model(features_depth, skill_depth, params)"
   ]
  },
  {
   "cell_type": "code",
   "execution_count": 50,
   "id": "665550f7-dbd4-4596-a6e6-0b4226275ee9",
   "metadata": {},
   "outputs": [
    {
     "name": "stdout",
     "output_type": "stream",
     "text": [
      "Model: \"DKT\"\n",
      "_________________________________________________________________\n",
      " Layer (type)                Output Shape              Param #   \n",
      "=================================================================\n",
      " inputs (InputLayer)         [(None, None, 4)]         0         \n",
      "                                                                 \n",
      " masking (Masking)           (None, None, 4)           0         \n",
      "                                                                 \n",
      " simple_rnn (SimpleRNN)      (None, None, 16)          336       \n",
      "                                                                 \n",
      " outputs (TimeDistributed)   (None, None, 1)           17        \n",
      "                                                                 \n",
      "=================================================================\n",
      "Total params: 353\n",
      "Trainable params: 353\n",
      "Non-trainable params: 0\n",
      "_________________________________________________________________\n"
     ]
    }
   ],
   "source": [
    "model.summary()\n"
   ]
  },
  {
   "cell_type": "code",
   "execution_count": 51,
   "id": "7e14067d-990c-4ea1-9b4e-3d9f4e4f5eba",
   "metadata": {},
   "outputs": [
    {
     "name": "stdout",
     "output_type": "stream",
     "text": [
      "Epoch 1/10\n",
      "20/20 [==============================] - 36s 2s/step - loss: 0.9790 - auc: 0.6650 - root_mean_squared_error: 0.5640 - val_loss: 0.8431 - val_auc: 0.6632 - val_root_mean_squared_error: 0.4659\n",
      "Epoch 2/10\n",
      "20/20 [==============================] - 30s 2s/step - loss: 0.8872 - auc: 0.6798 - root_mean_squared_error: 0.4376 - val_loss: 0.8048 - val_auc: 0.6849 - val_root_mean_squared_error: 0.4190\n",
      "Epoch 3/10\n",
      "20/20 [==============================] - 31s 2s/step - loss: 0.8651 - auc: 0.6861 - root_mean_squared_error: 0.4126 - val_loss: 0.7972 - val_auc: 0.6768 - val_root_mean_squared_error: 0.4124\n",
      "Epoch 4/10\n",
      "20/20 [==============================] - 31s 2s/step - loss: 0.8600 - auc: 0.6833 - root_mean_squared_error: 0.4083 - val_loss: 0.7952 - val_auc: 0.6752 - val_root_mean_squared_error: 0.4111\n",
      "Epoch 5/10\n",
      "20/20 [==============================] - 29s 1s/step - loss: 0.8585 - auc: 0.6794 - root_mean_squared_error: 0.4072 - val_loss: 0.7946 - val_auc: 0.6752 - val_root_mean_squared_error: 0.4107\n",
      "Epoch 6/10\n",
      "20/20 [==============================] - 30s 2s/step - loss: 0.8581 - auc: 0.6792 - root_mean_squared_error: 0.4069 - val_loss: 0.7944 - val_auc: 0.6708 - val_root_mean_squared_error: 0.4106\n",
      "Epoch 7/10\n",
      "20/20 [==============================] - 31s 2s/step - loss: 0.8578 - auc: 0.6778 - root_mean_squared_error: 0.4067 - val_loss: 0.7943 - val_auc: 0.6793 - val_root_mean_squared_error: 0.4105\n",
      "Epoch 8/10\n",
      "20/20 [==============================] - 30s 2s/step - loss: 0.8577 - auc: 0.6804 - root_mean_squared_error: 0.4066 - val_loss: 0.7943 - val_auc: 0.6729 - val_root_mean_squared_error: 0.4105\n",
      "Epoch 9/10\n",
      "20/20 [==============================] - 28s 1s/step - loss: 0.8576 - auc: 0.6809 - root_mean_squared_error: 0.4065 - val_loss: 0.7943 - val_auc: 0.6905 - val_root_mean_squared_error: 0.4105\n",
      "Epoch 10/10\n",
      "20/20 [==============================] - 30s 2s/step - loss: 0.8576 - auc: 0.6814 - root_mean_squared_error: 0.4065 - val_loss: 0.7942 - val_auc: 0.6848 - val_root_mean_squared_error: 0.4105\n"
     ]
    }
   ],
   "source": [
    "ckp_callback = tf.keras.callbacks.ModelCheckpoint(params['best_model_weights'], save_best_only=True, save_weights_only=True)\n",
    "history = model.fit(tf_train, epochs=params['epochs'], steps_per_epoch=params['train_size'], \n",
    "                    validation_data=tf_val,  validation_steps = params['val_size'], \n",
    "                    callbacks=[ckp_callback], verbose=params['verbose'])"
   ]
  },
  {
   "cell_type": "code",
   "execution_count": 52,
   "id": "d1f39fad-56a8-41a2-b3d2-301d15e7d72c",
   "metadata": {},
   "outputs": [
    {
     "name": "stdout",
     "output_type": "stream",
     "text": [
      "20/20 [==============================] - 8s 395ms/step - loss: 0.8882 - auc: 0.6878 - root_mean_squared_error: 0.4296\n"
     ]
    }
   ],
   "source": [
    "model.load_weights(params['best_model_weights'])\n",
    "metrics_dkt_small = model.evaluate(tf_test, verbose=params['verbose'], steps = params['test_size'])"
   ]
  },
  {
   "cell_type": "code",
   "execution_count": 53,
   "id": "1930c53b-9e09-4e9e-ac0d-9bf0af7f9a8a",
   "metadata": {},
   "outputs": [
    {
     "data": {
      "text/plain": [
       "[0.8881759643554688, 0.6878243088722229, 0.42955416440963745]"
      ]
     },
     "execution_count": 53,
     "metadata": {},
     "output_type": "execute_result"
    }
   ],
   "source": [
    "# Binary cross entropy, AUC, RMSE\n",
    "metrics_dkt_small"
   ]
  },
  {
   "cell_type": "code",
   "execution_count": 54,
   "id": "edb2a522-9083-45ab-8c22-92590ff3fe26",
   "metadata": {},
   "outputs": [],
   "source": [
    "auc_dkt = np.empty(np.shape(auc_bkt))\n",
    "auc_dkt.fill(metrics_dkt_small[1])\n",
    "\n",
    "rmse_dkt = np.empty(np.shape(rmse_bkt))\n",
    "rmse_dkt.fill(metrics_dkt_small[2])"
   ]
  },
  {
   "cell_type": "markdown",
   "id": "527bce1b-b378-40ae-b020-609ec99c1db7",
   "metadata": {},
   "source": [
    "## Task 3: Model Evaluation\n",
    "---\n",
    "In this task, we use metrics to evaluate the model."
   ]
  },
  {
   "cell_type": "markdown",
   "id": "3000fd03-9bee-4859-9ef0-2a8fdb176229",
   "metadata": {},
   "source": [
    "By performing a user-stratified 2-fold cross validation and monitoring the Root Mean Squared Error (RMSE) and the Area Under the ROC Curve (AUC) as performance metrics. Then, we visually report the RMSE and AUC scores achieved by the student's models in the user-stratified 2-fold cross validation, in such a way that the models' performance can be easily and appropriately compared against each other.\n",
    "\n",
    "Task 3.1: Performance metrics plotting.\n",
    "\n",
    "Task 3.2: Performance metrics discussion.\n"
   ]
  },
  {
   "cell_type": "markdown",
   "id": "fd6d4892-48b8-44a3-9588-42d556d1316a",
   "metadata": {},
   "source": [
    "### Task 3.1 Metrics representation\n",
    "\n",
    "In this task, we visually report the RMSE and AUC scores achieved by the three student's models in the user-stratified 2-fold cross validation performed in Task 1.2, 1.3, 1.4 and 1.5 respectively, in such a way that the models' performances can be easily and appropriately compared against each other. "
   ]
  },
  {
   "cell_type": "code",
   "execution_count": 55,
   "id": "1db8dcc2-484f-4e36-8aa8-e391c5e9661d",
   "metadata": {},
   "outputs": [
    {
     "data": {
      "image/png": "[encoded data removed]",
      "text/plain": [
       "<Figure size 1080x360 with 2 Axes>"
      ]
     },
     "metadata": {
      "needs_background": "light"
     },
     "output_type": "display_data"
    }
   ],
   "source": [
    "m = {'AUC': {'BKT': auc_bkt, 'AFM': auc_afm, 'PFA': auc_pfa, 'DKT': auc_dkt}, 'RMSE': {'BKT': rmse_bkt, 'AFM': rmse_afm, 'PFA': rmse_pfa, 'DKT': rmse_dkt}}\n",
    "limits = {'AUC': 0.8, 'RMSE': 0.6}\n",
    "\n",
    "plt.figure(figsize=(15, 5))\n",
    "\n",
    "for metric_idx, metric_key in enumerate(m.keys()):\n",
    "    \n",
    "    # Create the subplot for the current metric\n",
    "    plt.subplot(1, len(m), metric_idx + 1)\n",
    "    # Compute means, standard deviations, and labels\n",
    "    means, errors, labels = [], [], []\n",
    "    for model_key, model_scores in m[metric_key].items():\n",
    "        means.append(np.mean(model_scores))\n",
    "        errors.append(np.std(model_scores))\n",
    "        labels.append(model_key)\n",
    "    \n",
    "    # Plot values\n",
    "    x_pos = np.arange(len(labels))\n",
    "    plt.bar(x_pos, means, yerr=errors, align='center', alpha=0.5, ecolor='black', capsize=10)\n",
    "    # Make decorations\n",
    "    plt.grid(axis='y')\n",
    "    plt.xticks(x_pos, labels)\n",
    "    plt.ylabel(metric_key)\n",
    "    plt.ylim(0, limits[metric_key])\n",
    "\n",
    "# Show the plot\n",
    "plt.tight_layout()\n",
    "plt.show()"
   ]
  }
 ],
 "metadata": {
  "colab": {
   "collapsed_sections": [],
   "name": "m2-classtime-sciper.ipynb",
   "provenance": []
  },
  "kernelspec": {
   "display_name": "Tensorflow",
   "language": "python",
   "name": "tf"
  },
  "language_info": {
   "codemirror_mode": {
    "name": "ipython",
    "version": 3
   },
   "file_extension": ".py",
   "mimetype": "text/x-python",
   "name": "python",
   "nbconvert_exporter": "python",
   "pygments_lexer": "ipython3",
   "version": "3.8.10"
  }
 },
 "nbformat": 4,
 "nbformat_minor": 5
}
